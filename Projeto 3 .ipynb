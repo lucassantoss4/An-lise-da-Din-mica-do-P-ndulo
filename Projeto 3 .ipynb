{
 "cells": [
  {
   "cell_type": "code",
   "execution_count": 1,
   "id": "52648769",
   "metadata": {},
   "outputs": [],
   "source": [
    "# Importa bibliotecas\n",
    "import math\n",
    "import numpy as np\n",
    "import matplotlib.pyplot as plt\n",
    "from scipy.integrate import odeint"
   ]
  },
  {
   "cell_type": "code",
   "execution_count": 2,
   "id": "0b2259f7",
   "metadata": {},
   "outputs": [],
   "source": [
    "# Definição dos parâmetros\n",
    "g = 9.81 # Aceleração da gravidade [m/s^2]\n",
    "ma = 0.01 # Massa bolinha [kg]\n",
    "h = 0.1 # Altura da barra [m]\n",
    "l0 = 0.04 # Comprimento da cordinha [m]\n"
   ]
  },
  {
   "cell_type": "code",
   "execution_count": 3,
   "id": "db066d8b",
   "metadata": {},
   "outputs": [],
   "source": [
    "# Função de equações diferenciais (a ser utilizada pela odeint)\n",
    "def modelo(x, t):\n",
    "    # Desmembra lista\n",
    "    \n",
    "    # Equações diferenciais\n",
    "\n",
    "   \n",
    "    # Regrupa lista de derivadas\n",
    "    dxdt = []\n",
    "    # Returna lista de derivadas\n",
    "    return dxdt "
   ]
  },
  {
   "cell_type": "code",
   "execution_count": null,
   "id": "e54d1b1f",
   "metadata": {},
   "outputs": [],
   "source": [
    "# Lista de tempo\n",
    "dt = 1e-2\n",
    "t = np.arange(0,3,dt)\n",
    "\n",
    "# Utiliza a função odeintmxordn=1\n",
    "x = odeint(modelo, x0, t)"
   ]
  },
  {
   "cell_type": "code",
   "execution_count": null,
   "id": "d1ba8741",
   "metadata": {},
   "outputs": [],
   "source": [
    "# Plota o gráfico\n",
    "\n",
    "plt.plot()\n",
    "plt.plot()\n",
    "plt.title('')\n",
    "plt.xlabel('')\n",
    "plt.ylabel('')\n",
    "plt.legend()\n",
    "plt.grid(True)\n",
    "plt.show()"
   ]
  }
 ],
 "metadata": {
  "kernelspec": {
   "display_name": "Python 3 (ipykernel)",
   "language": "python",
   "name": "python3"
  },
  "language_info": {
   "codemirror_mode": {
    "name": "ipython",
    "version": 3
   },
   "file_extension": ".py",
   "mimetype": "text/x-python",
   "name": "python",
   "nbconvert_exporter": "python",
   "pygments_lexer": "ipython3",
   "version": "3.9.12"
  }
 },
 "nbformat": 4,
 "nbformat_minor": 5
}
